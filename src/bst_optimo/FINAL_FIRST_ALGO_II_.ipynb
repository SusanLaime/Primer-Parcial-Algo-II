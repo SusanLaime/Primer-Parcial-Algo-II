{
  "nbformat": 4,
  "nbformat_minor": 0,
  "metadata": {
    "colab": {
      "provenance": []
    },
    "kernelspec": {
      "name": "python3",
      "display_name": "Python 3"
    },
    "language_info": {
      "name": "python"
    }
  },
  "cells": [
    {
      "cell_type": "markdown",
      "source": [
        "# OBST"
      ],
      "metadata": {
        "id": "lIIltj7E4714"
      }
    },
    {
      "cell_type": "markdown",
      "source": [
        "Genera un árbol de busqueda binaria optima basado en el pseudocodigo del libro, considerando keys como térmios técnicos."
      ],
      "metadata": {
        "id": "zVDFfveTxGSQ"
      }
    },
    {
      "cell_type": "code",
      "source": [
        "from math import inf\n",
        "import time\n",
        "import timeit\n",
        "\n",
        "def optimal_bst(p, q, keys):\n",
        "    start = time.perf_counter()\n",
        "\n",
        "    n = len(p)    # real keys\n",
        "    p = [None] + p[:]                   # 1index-based\n",
        "    e = [[0]*(n+2) for _ in range(n+2)] # minimum expected cost\n",
        "    w = [[0]*(n+2) for _ in range(n+2)] # weights\n",
        "    root = [[0]*(n+2) for _ in range(n+2)] # matrix of roots\n",
        "\n",
        "    for i in range(1, n+2):             # base cases\n",
        "        e[i][i-1] = q[i-1]\n",
        "        w[i][i-1] = q[i-1]\n",
        "\n",
        "    for L in range(1, n+1):             # lengths\n",
        "        for i in range(1, n-L+2):\n",
        "            j = i + L - 1\n",
        "            e[i][j] = inf\n",
        "            w[i][j] = w[i][j-1] + p[j] + q[j]\n",
        "            for r in range(i, j+1):     # try all roots\n",
        "                t = e[i][r-1] + e[r+1][j] + w[i][j]\n",
        "                if t < e[i][j]:\n",
        "                    e[i][j] = t\n",
        "                    root[i][j] = r\n",
        "\n",
        "    elapsedOBST = time.perf_counter() - start\n",
        "\n",
        "    return e[1][n], root, elapsedOBST"
      ],
      "metadata": {
        "id": "_xpFwoFlyk58"
      },
      "execution_count": null,
      "outputs": []
    },
    {
      "cell_type": "code",
      "source": [
        "keys = [\n",
        "    \"API\", \"Backend\", \"Frontend\", \"JSON\", \"Middleware\",\n",
        "    \"Database\", \"Cache\", \"Session\", \"Auth\", \"Logging\",\n",
        "    \"Queue\", \"Service\", \"Gateway\", \"Config\", \"Client\",\n",
        "    \"Microservice\", \"Protocol\", \"Container\", \"Virtualization\", \"Cluster\",\n",
        "    \"Deployment\", \"Replication\", \"LoadBalancer\", \"Failover\", \"Monitoring\",\n",
        "    \"Orchestration\", \"Scheduler\", \"Autoscaling\", \"Ingress\", \"Firewall\",\n",
        "    \"Encryption\", \"Compression\", \"Indexing\", \"Transaction\", \"Rollback\",\n",
        "    \"Cursor\", \"Trigger\", \"Pipeline\", \"Workflow\", \"Sandbox\",\n",
        "    \"Endpoint\", \"Latency\", \"Throughput\", \"Bandwidth\", \"DNS\",\n",
        "    \"HTTP\", \"TLS\", \"SSL\", \"Proxy\", \"CacheInvalidation\"\n",
        "]\n",
        "\n",
        "\n",
        "# Raw frequencies of successful searches (length = 50)\n",
        "p = [\n",
        "    12, 25, 18, 10, 15,\n",
        "    22, 8, 7, 11, 9,\n",
        "    13, 20, 17, 14, 16,\n",
        "    19, 21, 6, 5, 23,\n",
        "    18, 9, 8, 7, 11,\n",
        "    10, 12, 14, 16, 13,\n",
        "    17, 15, 19, 20, 21,\n",
        "    6, 7, 8, 9, 10,\n",
        "    11, 12, 13, 14, 15,\n",
        "    16, 17, 18, 19, 20\n",
        "]\n",
        "\n",
        "\n",
        "# Uunsuccessful search frequencies (length = 51)\n",
        "q = [\n",
        "    0.5, 0.4, 0.3, 0.2, 0.25,\n",
        "    0.35, 0.15, 0.2, 0.3, 0.25,\n",
        "    0.4, 0.3, 0.2, 0.1, 0.2,\n",
        "    0.3, 0.35, 0.4, 0.25, 0.15,\n",
        "    0.2, 0.3, 0.25, 0.35, 0.15,\n",
        "    0.2, 0.3, 0.4, 0.25, 0.1,\n",
        "    0.2, 0.3, 0.25, 0.35, 0.15,\n",
        "    0.2, 0.3, 0.4, 0.25, 0.1,\n",
        "    0.2, 0.3, 0.25, 0.35, 0.15,\n",
        "    0.2, 0.3, 0.25, 0.35, 0.15,\n",
        "    0.2\n",
        "]\n",
        "\n",
        "# Expected cosr 'w'\n",
        "e_obst, root_table, t = optimal_bst(p, q, keys)\n",
        "print(f\"OBST expected cost: {e_obst:.2f}, time: {t:.4f}s\")\n",
        "\n",
        "sorted_keys = sorted(keys)\n",
        "\n",
        "# Print each key\n",
        "for key in sorted_keys:\n",
        "    print(key)\n"
      ],
      "metadata": {
        "colab": {
          "base_uri": "https://localhost:8080/"
        },
        "id": "S1xENRw7_L7p",
        "outputId": "ccb13b18-b5ea-477a-fdd7-670d831299d8"
      },
      "execution_count": null,
      "outputs": [
        {
          "output_type": "stream",
          "name": "stdout",
          "text": [
            "OBST expected cost: 3327.55, time: 0.0101s\n",
            "API\n",
            "Auth\n",
            "Autoscaling\n",
            "Backend\n",
            "Bandwidth\n",
            "Cache\n",
            "CacheInvalidation\n",
            "Client\n",
            "Cluster\n",
            "Compression\n",
            "Config\n",
            "Container\n",
            "Cursor\n",
            "DNS\n",
            "Database\n",
            "Deployment\n",
            "Encryption\n",
            "Endpoint\n",
            "Failover\n",
            "Firewall\n",
            "Frontend\n",
            "Gateway\n",
            "HTTP\n",
            "Indexing\n",
            "Ingress\n",
            "JSON\n",
            "Latency\n",
            "LoadBalancer\n",
            "Logging\n",
            "Microservice\n",
            "Middleware\n",
            "Monitoring\n",
            "Orchestration\n",
            "Pipeline\n",
            "Protocol\n",
            "Proxy\n",
            "Queue\n",
            "Replication\n",
            "Rollback\n",
            "SSL\n",
            "Sandbox\n",
            "Scheduler\n",
            "Service\n",
            "Session\n",
            "TLS\n",
            "Throughput\n",
            "Transaction\n",
            "Trigger\n",
            "Virtualization\n",
            "Workflow\n"
          ]
        }
      ]
    },
    {
      "cell_type": "code",
      "source": [
        "e_obst, raices, t = optimal_bst(p, q, keys)\n",
        "n = len(keys)\n",
        "\n",
        "print(\"Cálculo completado. Matriz de Raíces (root):\")\n",
        "\n",
        "def print_root_matrix():\n",
        "# print in an ordered way\n",
        "  for i in range(1, n + 1):\n",
        "      # /print / from i..n+1\n",
        "      fila_relevante = raices[i][i : n + 1]\n",
        "      print(f\"Fila {i}: {fila_relevante}\")\n",
        "\n",
        "  raiz_principal_indice = raices[1][n]\n",
        "  costo_minimo_total = e_obst\n",
        "  print(f\"\\nLa raíz principal del árbol es '{keys[raiz_principal_indice - 1]}' (índice {raiz_principal_indice})\")\n",
        "\n",
        "  print(f\"\\nCosto minimo OBST: {costo_minimo_total:.2f}\")\n",
        "\n",
        "print_root_matrix()"
      ],
      "metadata": {
        "colab": {
          "base_uri": "https://localhost:8080/"
        },
        "id": "qHLKIz283LB-",
        "outputId": "616522f7-73cb-4105-a9b9-084f4392acbd"
      },
      "execution_count": null,
      "outputs": [
        {
          "output_type": "stream",
          "name": "stdout",
          "text": [
            "Cálculo completado. Matriz de Raíces (root):\n",
            "Fila 1: [1, 2, 2, 2, 3, 3, 3, 3, 3, 6, 6, 6, 6, 6, 6, 6, 12, 12, 12, 12, 12, 12, 12, 12, 12, 12, 12, 12, 12, 15, 16, 16, 17, 17, 20, 20, 20, 20, 20, 20, 20, 20, 20, 20, 20, 20, 20, 20, 20, 20]\n",
            "Fila 2: [2, 2, 3, 3, 3, 3, 3, 6, 6, 6, 6, 6, 6, 6, 6, 12, 12, 12, 12, 12, 12, 12, 12, 12, 12, 12, 12, 12, 15, 16, 16, 20, 20, 20, 20, 20, 20, 20, 20, 20, 20, 20, 20, 20, 20, 20, 20, 20, 20]\n",
            "Fila 3: [3, 3, 4, 5, 5, 5, 6, 6, 6, 6, 6, 6, 12, 12, 12, 12, 12, 12, 12, 12, 12, 12, 12, 12, 12, 12, 17, 17, 17, 17, 20, 20, 20, 20, 20, 20, 20, 20, 20, 20, 20, 20, 20, 20, 20, 20, 20, 20]\n",
            "Fila 4: [4, 5, 5, 6, 6, 6, 6, 6, 6, 9, 9, 12, 12, 12, 12, 12, 12, 12, 12, 12, 12, 15, 15, 17, 17, 17, 17, 17, 17, 20, 20, 20, 20, 20, 20, 20, 20, 20, 20, 20, 20, 20, 20, 20, 20, 20, 31]\n",
            "Fila 5: [5, 6, 6, 6, 6, 6, 6, 9, 9, 9, 12, 12, 12, 12, 12, 13, 13, 13, 15, 15, 15, 15, 17, 17, 17, 17, 17, 17, 20, 20, 20, 20, 20, 20, 20, 20, 20, 20, 20, 20, 20, 20, 20, 20, 31, 31]\n",
            "Fila 6: [6, 6, 6, 6, 7, 9, 9, 9, 12, 12, 12, 12, 12, 12, 13, 13, 16, 16, 16, 16, 16, 17, 17, 17, 17, 17, 17, 20, 20, 20, 20, 20, 20, 20, 20, 20, 20, 20, 27, 27, 27, 27, 27, 31, 31]\n",
            "Fila 7: [7, 7, 8, 9, 9, 11, 12, 12, 12, 12, 12, 12, 12, 15, 16, 16, 16, 16, 16, 16, 17, 17, 17, 17, 17, 17, 20, 20, 20, 20, 20, 20, 21, 21, 21, 21, 27, 27, 27, 27, 27, 27, 31, 31]\n",
            "Fila 8: [8, 9, 9, 10, 11, 12, 12, 12, 13, 13, 13, 13, 15, 16, 16, 16, 16, 16, 17, 17, 17, 17, 20, 20, 20, 20, 20, 20, 20, 20, 20, 21, 21, 21, 21, 27, 27, 27, 27, 27, 31, 31, 31]\n",
            "Fila 9: [9, 9, 10, 11, 12, 12, 12, 13, 13, 13, 15, 15, 16, 16, 16, 16, 16, 17, 17, 17, 17, 20, 20, 20, 20, 20, 20, 20, 20, 20, 21, 21, 21, 21, 27, 27, 27, 27, 27, 31, 31, 31]\n",
            "Fila 10: [10, 11, 11, 12, 12, 12, 13, 14, 14, 15, 15, 16, 16, 16, 17, 17, 17, 17, 17, 20, 20, 20, 20, 20, 20, 20, 20, 20, 20, 21, 21, 21, 27, 27, 27, 27, 27, 27, 31, 31, 31]\n",
            "Fila 11: [11, 12, 12, 12, 13, 13, 14, 14, 15, 15, 16, 16, 16, 17, 17, 17, 17, 20, 20, 20, 20, 20, 20, 20, 20, 20, 20, 25, 25, 25, 25, 27, 27, 27, 27, 27, 27, 31, 31, 31]\n",
            "Fila 12: [12, 12, 13, 13, 13, 15, 15, 15, 15, 16, 16, 16, 17, 17, 17, 17, 20, 20, 20, 20, 20, 20, 20, 20, 20, 20, 25, 25, 25, 29, 29, 29, 29, 29, 29, 29, 31, 31, 31]\n",
            "Fila 13: [13, 13, 14, 15, 16, 16, 16, 17, 17, 17, 17, 17, 17, 20, 20, 20, 20, 20, 20, 21, 21, 21, 25, 25, 29, 29, 29, 29, 29, 29, 29, 29, 29, 29, 29, 31, 31, 31]\n",
            "Fila 14: [14, 15, 15, 16, 16, 16, 17, 17, 17, 17, 17, 20, 20, 20, 20, 20, 21, 21, 21, 21, 21, 27, 29, 29, 29, 29, 29, 29, 29, 29, 29, 29, 29, 31, 31, 31, 31]\n",
            "Fila 15: [15, 16, 16, 16, 16, 17, 17, 17, 20, 20, 20, 20, 20, 21, 21, 21, 21, 21, 21, 27, 27, 29, 29, 29, 29, 29, 29, 29, 29, 29, 29, 29, 31, 31, 31, 31]\n",
            "Fila 16: [16, 17, 17, 17, 17, 20, 20, 20, 20, 20, 20, 21, 21, 21, 21, 21, 25, 27, 27, 29, 29, 29, 29, 29, 29, 29, 29, 29, 29, 29, 29, 31, 31, 31, 35]\n",
            "Fila 17: [17, 17, 17, 20, 20, 20, 20, 20, 20, 20, 21, 21, 23, 23, 25, 25, 27, 27, 29, 29, 29, 29, 29, 29, 29, 29, 29, 29, 33, 33, 33, 33, 33, 35]\n",
            "Fila 18: [18, 18, 20, 20, 20, 21, 21, 21, 21, 21, 21, 25, 25, 25, 25, 27, 27, 29, 29, 29, 29, 29, 31, 31, 31, 31, 31, 33, 33, 33, 33, 35, 35]\n",
            "Fila 19: [19, 20, 20, 20, 21, 21, 21, 21, 21, 25, 25, 25, 25, 25, 27, 27, 29, 29, 29, 29, 29, 31, 31, 31, 31, 31, 33, 33, 33, 33, 35, 35]\n",
            "Fila 20: [20, 20, 21, 21, 21, 21, 21, 21, 25, 25, 25, 25, 25, 27, 29, 29, 29, 29, 29, 29, 31, 31, 31, 31, 31, 33, 33, 33, 35, 35, 35]\n",
            "Fila 21: [21, 21, 21, 22, 23, 23, 23, 25, 25, 27, 27, 27, 27, 29, 29, 29, 29, 29, 31, 31, 31, 31, 31, 31, 35, 35, 35, 35, 35, 35]\n",
            "Fila 22: [22, 22, 23, 23, 25, 25, 25, 26, 27, 28, 29, 29, 29, 29, 29, 29, 31, 31, 31, 31, 31, 31, 33, 35, 35, 35, 35, 35, 35]\n",
            "Fila 23: [23, 23, 24, 25, 25, 25, 27, 27, 28, 29, 29, 31, 31, 31, 31, 31, 31, 31, 31, 31, 31, 33, 35, 35, 35, 35, 35, 35]\n",
            "Fila 24: [24, 25, 25, 26, 27, 27, 27, 28, 29, 29, 31, 31, 31, 31, 31, 31, 31, 31, 33, 33, 33, 35, 35, 35, 35, 35, 35]\n",
            "Fila 25: [25, 25, 26, 27, 28, 28, 28, 29, 29, 31, 31, 31, 31, 33, 33, 33, 33, 33, 33, 33, 35, 35, 35, 35, 35, 35]\n",
            "Fila 26: [26, 27, 27, 28, 29, 29, 29, 29, 31, 31, 31, 33, 33, 33, 33, 33, 33, 33, 35, 35, 35, 35, 35, 35, 35]\n",
            "Fila 27: [27, 28, 28, 29, 29, 29, 31, 31, 31, 31, 33, 33, 33, 33, 33, 35, 35, 35, 35, 35, 35, 35, 35, 35]\n",
            "Fila 28: [28, 29, 29, 29, 31, 31, 31, 31, 33, 33, 33, 33, 33, 34, 35, 35, 35, 35, 35, 35, 35, 35, 35]\n",
            "Fila 29: [29, 29, 30, 31, 31, 31, 32, 33, 33, 33, 33, 33, 34, 35, 35, 35, 35, 35, 35, 35, 40, 40]\n",
            "Fila 30: [30, 31, 31, 32, 33, 33, 33, 33, 33, 33, 33, 35, 35, 35, 35, 35, 35, 35, 39, 42, 43]\n",
            "Fila 31: [31, 31, 32, 33, 33, 33, 33, 33, 35, 35, 35, 35, 35, 35, 35, 35, 35, 41, 42, 43]\n",
            "Fila 32: [32, 33, 33, 34, 34, 34, 35, 35, 35, 35, 35, 35, 35, 35, 35, 40, 41, 42, 43]\n",
            "Fila 33: [33, 34, 34, 34, 34, 35, 35, 35, 35, 35, 35, 35, 40, 40, 40, 41, 42, 43]\n",
            "Fila 34: [34, 35, 35, 35, 35, 35, 35, 35, 39, 39, 39, 40, 40, 40, 41, 42, 43]\n",
            "Fila 35: [35, 35, 35, 35, 37, 37, 38, 39, 39, 41, 41, 42, 42, 43, 43, 43]\n",
            "Fila 36: [36, 37, 37, 38, 39, 39, 39, 40, 41, 42, 43, 44, 44, 44, 45]\n",
            "Fila 37: [37, 38, 38, 39, 40, 40, 40, 41, 42, 43, 44, 44, 45, 45]\n",
            "Fila 38: [38, 39, 39, 40, 41, 41, 41, 42, 43, 44, 45, 45, 45]\n",
            "Fila 39: [39, 40, 40, 41, 42, 42, 42, 43, 44, 45, 46, 46]\n",
            "Fila 40: [40, 41, 41, 42, 43, 43, 43, 44, 45, 46, 47]\n",
            "Fila 41: [41, 42, 42, 43, 44, 44, 44, 45, 46, 47]\n",
            "Fila 42: [42, 43, 43, 44, 45, 45, 45, 46, 47]\n",
            "Fila 43: [43, 44, 44, 45, 46, 46, 46, 47]\n",
            "Fila 44: [44, 45, 45, 46, 47, 47, 47]\n",
            "Fila 45: [45, 46, 46, 47, 48, 48]\n",
            "Fila 46: [46, 47, 47, 48, 49]\n",
            "Fila 47: [47, 48, 48, 49]\n",
            "Fila 48: [48, 49, 49]\n",
            "Fila 49: [49, 50]\n",
            "Fila 50: [50]\n",
            "\n",
            "La raíz principal del árbol es 'Cluster' (índice 20)\n",
            "\n",
            "Costo minimo OBST: 3327.55\n"
          ]
        }
      ]
    },
    {
      "cell_type": "markdown",
      "source": [
        "## Reconstrucción de un árbol óptimo"
      ],
      "metadata": {
        "id": "i4gdBQD4y3sJ"
      }
    },
    {
      "cell_type": "markdown",
      "source": [
        "Al aumentar el peso de un termino, estoy aumentando la cantidad de trabajo que hara el árbol. <br>\n",
        "\n",
        "Al subir 'e' seria el costo minimo total esperado de realizar mucha busqueda a lo largo del tiempo de acuerdo a las frecuencias con las que busca cada termino."
      ],
      "metadata": {
        "id": "uEFic6TfAStQ"
      }
    },
    {
      "cell_type": "code",
      "source": [
        "# root --> root[1][n] --> kr debe ser la raiz\n",
        "\n",
        "#Todos los nodos en su subárbol izquierdo deben tener claves menores a kr\n",
        "#Todos los nodos en el subárbol derecho deben tener claves mayores a kr\n",
        "\n",
        "#La buscamos en nuestra matriz\n",
        "#Recursive\n",
        "# left subtree --> [1, r-1]\n",
        "# right subtree --> [r + 1, n]\n",
        "# Se repite el proceso en el rango [1, r+1] para el izquierdo\n",
        "# y [r + 1, n] para el derecho\n",
        "class Nodo:\n",
        "    def __init__(self, clave):\n",
        "        self.clave = clave\n",
        "        self.izquierda = None\n",
        "        self.derecha = None\n",
        "\n",
        "def construir_arbol_optimo(raices, keys, i, j):\n",
        "\n",
        "    if i > j:\n",
        "        return None\n",
        "    indice_raiz = raices[i][j]\n",
        "\n",
        "    if indice_raiz == 0:\n",
        "        return None\n",
        "\n",
        "    nodo = Nodo(keys[indice_raiz - 1])\n",
        "\n",
        "    nodo.izquierda = construir_arbol_optimo(raices, keys, i, indice_raiz - 1)\n",
        "    nodo.derecha = construir_arbol_optimo(raices, keys, indice_raiz + 1, j)\n",
        "\n",
        "    return nodo"
      ],
      "metadata": {
        "id": "xd9_n8jbLOQN"
      },
      "execution_count": null,
      "outputs": []
    },
    {
      "cell_type": "code",
      "source": [
        "# Construir el árbol óptimo\n",
        "raiz_del_arbol = construir_arbol_optimo(raices, keys, 1, n)\n",
        "\n",
        "# Verificamos\n",
        "print(f\"La raíz principal es: {raiz_del_arbol.clave}\")\n",
        "print(f\"El hijo izquierdo de {raiz_del_arbol.clave} es: {raiz_del_arbol.izquierda.clave}\")\n",
        "print(f\"El hijo derecho de {raiz_del_arbol.clave} es: {raiz_del_arbol.derecha.clave}\")\n",
        "print(f\"El hijo izquierdo de {raiz_del_arbol.derecha.clave} es: {raiz_del_arbol.derecha.derecha.clave}\")\n",
        "print(f\"El hijo izquierdo de {raiz_del_arbol.derecha.izquierda.clave} es: {raiz_del_arbol.derecha.izquierda.derecha.clave}\")\n",
        "print(f\"El hijo izquierdo de {raiz_del_arbol.derecha.derecha.clave} es: {raiz_del_arbol.derecha.izquierda.derecha.clave}\")\n",
        "#..."
      ],
      "metadata": {
        "colab": {
          "base_uri": "https://localhost:8080/"
        },
        "id": "O6vA6KyD7xF0",
        "outputId": "18319f3e-72c6-4050-a597-acceeb5be31f"
      },
      "execution_count": null,
      "outputs": [
        {
          "output_type": "stream",
          "name": "stdout",
          "text": [
            "La raíz principal es: Cluster\n",
            "El hijo izquierdo de Cluster es: Service\n",
            "El hijo derecho de Cluster es: Rollback\n",
            "El hijo izquierdo de Rollback es: DNS\n",
            "El hijo izquierdo de Ingress es: Indexing\n",
            "El hijo izquierdo de DNS es: Indexing\n"
          ]
        }
      ]
    },
    {
      "cell_type": "markdown",
      "source": [
        "## Utilizando Graphviz, ejemplo extra"
      ],
      "metadata": {
        "id": "kADPG3f2rLsY"
      }
    },
    {
      "cell_type": "code",
      "source": [
        "import graphviz\n",
        "\n",
        "# --- optimal_bst function  ---\n",
        "# e_obst, raices, t = optimal_bst(p, q, keys)\n",
        "# n = len(keys)\n",
        "# keys = [\"key1\", \"key2\", ...]\n",
        "\n",
        "def draw_obst(keys, raices, n):\n",
        "    \"\"\"\n",
        "    Generates a Graphviz visualization of the Optimal Binary Search Tree.\n",
        "    \"\"\"\n",
        "    dot = graphviz.Digraph('OBST', comment='Optimal Binary Search Tree')\n",
        "    dot.attr('node', shape='circle')\n",
        "\n",
        "    def add_nodes_and_edges(i, j):\n",
        "        # Base case:no subtree\n",
        "        if i > j:\n",
        "            return\n",
        "\n",
        "        root_idx = raices[i][j]\n",
        "\n",
        "        # Invalid --> dummy node.\n",
        "        if root_idx == 0:\n",
        "            return\n",
        "\n",
        "        # Get the label for the node from the keys list (0-indexed)\n",
        "        root_label = keys[root_idx - 1]\n",
        "\n",
        "        # --- Recursively process left subtree ---\n",
        "        # range [i..root_idx-1]\n",
        "        left_child_idx = raices[i][root_idx - 1] if i <= root_idx - 1 else 0\n",
        "        if left_child_idx != 0:\n",
        "            left_child_label = keys[left_child_idx - 1]\n",
        "            dot.edge(root_label, left_child_label)\n",
        "            add_nodes_and_edges(i, root_idx - 1)\n",
        "\n",
        "        # --- Recursively process right subtree ---\n",
        "        # range  [root_idx+1..j]\n",
        "        right_child_idx = raices[root_idx + 1][j] if root_idx + 1 <= j else 0\n",
        "        if right_child_idx != 0:\n",
        "            right_child_label = keys[right_child_idx - 1]\n",
        "            dot.edge(root_label, right_child_label)\n",
        "            add_nodes_and_edges(root_idx + 1, j)\n",
        "\n",
        "    # Building the entire tree from keys 1 to n\n",
        "    add_nodes_and_edges(1, n)\n",
        "\n",
        "    # Render the graph\n",
        "    print(\"\\nGenerating graph...\")\n",
        "    dot.render('obst_graph', view=True, format='png')\n",
        "    print(\"Graph 'obst_graph.png' has been created.\")\n",
        "\n",
        "# --- Call the function after your OBST calculation ---\n",
        "draw_obst(keys, raices, n)"
      ],
      "metadata": {
        "colab": {
          "base_uri": "https://localhost:8080/"
        },
        "id": "sqWS4JwOS2h4",
        "outputId": "a258d9b7-f51c-40cb-dc77-09b4feb24dac"
      },
      "execution_count": null,
      "outputs": [
        {
          "output_type": "stream",
          "name": "stdout",
          "text": [
            "\n",
            "Generating graph...\n",
            "Graph 'obst_graph.png' has been created.\n"
          ]
        }
      ]
    },
    {
      "cell_type": "markdown",
      "source": [
        "## OBST vs BST"
      ],
      "metadata": {
        "id": "4NASA-9yzNzg"
      }
    },
    {
      "cell_type": "markdown",
      "source": [
        "Se evaluará su tiempo mínimo de costo y su tiempo de ejecución de cada algoritmo."
      ],
      "metadata": {
        "id": "vnLIDapUPrwg"
      }
    },
    {
      "cell_type": "markdown",
      "source": [
        "## BST"
      ],
      "metadata": {
        "id": "eiz0XugGP1Qm"
      }
    },
    {
      "cell_type": "code",
      "source": [
        "import time\n",
        "\n",
        "class Node:\n",
        "    def __init__(self, key, prob):\n",
        "        self.key = key\n",
        "        self.prob = prob\n",
        "        self.left = None\n",
        "        self.right = None\n",
        "\n",
        "def insert(root, key, prob):\n",
        "    if root is None:\n",
        "        return Node(key, prob)\n",
        "    if key < root.key:\n",
        "        root.left = insert(root.left, key, prob)\n",
        "    else:\n",
        "        root.right = insert(root.right, key, prob)\n",
        "    return root\n",
        "\n",
        "def bst(p, keys):\n",
        "    \"\"\"\n",
        "    p: probabilities of keys (same length as keys)\n",
        "    keys: list of sorted keys (A, B, C, ...)\n",
        "    \"\"\"\n",
        "    start = time.perf_counter()\n",
        "\n",
        "    root = None\n",
        "    for k, prob in zip(keys, p):\n",
        "        root = insert(root, k, prob)\n",
        "\n",
        "    # Traverse and compute expected cost\n",
        "    e = []\n",
        "    def dfs(node, depth):\n",
        "        if node:\n",
        "            e.append(node.prob * depth)\n",
        "            dfs(node.left, depth+1)\n",
        "            dfs(node.right, depth+1)\n",
        "    dfs(root, 1)\n",
        "\n",
        "    end = time.perf_counter()\n",
        "    elapsed = end - start\n",
        "\n",
        "    return sum(e), root, elapsed"
      ],
      "metadata": {
        "id": "gCgkQxn8tweN"
      },
      "execution_count": null,
      "outputs": []
    },
    {
      "cell_type": "code",
      "source": [
        "# 50 CHARACTERS\n",
        "\n",
        "keys = [\n",
        "    \"API\", \"Backend\", \"Frontend\", \"JSON\", \"Middleware\",\n",
        "    \"Database\", \"Cache\", \"Session\", \"Auth\", \"Logging\",\n",
        "    \"Queue\", \"Service\", \"Gateway\", \"Config\", \"Client\",\n",
        "    \"Microservice\", \"Protocol\", \"Container\", \"Virtualization\", \"Cluster\",\n",
        "    \"Deployment\", \"Replication\", \"LoadBalancer\", \"Failover\", \"Monitoring\",\n",
        "    \"Orchestration\", \"Scheduler\", \"Autoscaling\", \"Ingress\", \"Firewall\",\n",
        "    \"Encryption\", \"Compression\", \"Indexing\", \"Transaction\", \"Rollback\",\n",
        "    \"Cursor\", \"Trigger\", \"Pipeline\", \"Workflow\", \"Sandbox\",\n",
        "    \"Endpoint\", \"Latency\", \"Throughput\", \"Bandwidth\", \"DNS\",\n",
        "    \"HTTP\", \"TLS\", \"SSL\", \"Proxy\", \"CacheInvalidation\"\n",
        "]\n",
        "\n",
        "# Frequencies of successful search (length = 15)\n",
        "p = [\n",
        "    12, 25, 18, 10, 15,\n",
        "    22, 8, 7, 11, 9,\n",
        "    13, 20, 17, 14, 16,\n",
        "    19, 21, 6, 5, 23,\n",
        "    18, 9, 8, 7, 11,\n",
        "    10, 12, 14, 16, 13,\n",
        "    17, 15, 19, 20, 21,\n",
        "    6, 7, 8, 9, 10,\n",
        "    11, 12, 13, 14, 15,\n",
        "    16, 17, 18, 19, 20\n",
        "]\n",
        "\n",
        "e_bst, root, t = bst(p, keys)\n",
        "def cost_BST():\n",
        "  print(f\"Expected cost BST: {e_bst:.2f}, time: {t:.4f}s\")\n",
        "\n",
        "cost_BST();"
      ],
      "metadata": {
        "colab": {
          "base_uri": "https://localhost:8080/"
        },
        "id": "v2BgbMP03PC7",
        "outputId": "e446f884-8b86-4bf7-9e7e-89951e644c44"
      },
      "execution_count": null,
      "outputs": [
        {
          "output_type": "stream",
          "name": "stdout",
          "text": [
            "Expected cost BST: 4965.00, time: 0.0002s\n"
          ]
        }
      ]
    },
    {
      "cell_type": "markdown",
      "source": [
        "## Comparando su costo de búsqueda \"e\" y su tiempo de ejecución"
      ],
      "metadata": {
        "id": "HbS0s5ziWg7b"
      }
    },
    {
      "cell_type": "code",
      "source": [
        "# one run (exact time for this run)\n",
        "e_obst, root_table, t_obst = optimal_bst(p, q, keys)\n",
        "print(f\"OBST expected cost: {e_obst:.2f}, time: {t_obst:.6f}s\")\n",
        "\n",
        "# Build regular BST (insertion order )\n",
        "e_regular, root_regular, t_regular = bst(p, keys)\n",
        "print(f\"Regular BST expected cost: {e_regular:.2f}, time: {t_regular:.6f}s\")\n",
        "\n",
        "# Benchmark\n",
        "avg_optimal = timeit.timeit(lambda: optimal_bst(p, q, keys)[0], number=100) / 100\n",
        "avg_regular = timeit.timeit(lambda: bst(p, keys)[0], number=100) / 100\n",
        "print(f\"Optimal BST avg time: {avg_optimal:.6f}s\")\n",
        "print(f\"Regular BST avg time: {avg_regular:.6f}s\")"
      ],
      "metadata": {
        "colab": {
          "base_uri": "https://localhost:8080/"
        },
        "id": "PcAD4CeXsGI0",
        "outputId": "b5d506f4-cb15-441c-cab4-8f8cd0a93a5f"
      },
      "execution_count": null,
      "outputs": [
        {
          "output_type": "stream",
          "name": "stdout",
          "text": [
            "OBST expected cost: 3327.55, time: 0.020407s\n",
            "Regular BST expected cost: 4965.00, time: 0.010441s\n",
            "Optimal BST avg time: 0.009323s\n",
            "Regular BST avg time: 0.000109s\n"
          ]
        }
      ]
    },
    {
      "cell_type": "markdown",
      "source": [
        "# Gráficos de Comparación"
      ],
      "metadata": {
        "id": "WHHox3qxO1qg"
      }
    },
    {
      "cell_type": "code",
      "source": [
        "import matplotlib.pyplot as plt\n",
        "import timeit\n",
        "import random\n",
        "from math import inf\n",
        "import time\n",
        "\n",
        "# --- Data for the first graph (bar chart) ---\n",
        "e_obst = 3327.55\n",
        "e_regular = 4965.00\n",
        "\n",
        "# --- Graph 1: Cost Comparison (Horizontal Bar Chart) ---\n",
        "plt.figure(figsize=(8, 5))\n",
        "labels_cost = ['Optimal BST (OBST)', 'Regular BST']\n",
        "costs = [e_obst, e_regular]\n",
        "bars_cost = plt.barh(labels_cost, costs, color=['blue', 'red'])\n",
        "\n",
        "plt.xlabel('Expected Search Cost')\n",
        "plt.title('Comparison of Expected Search Costs')\n",
        "plt.xlim(0, max(costs) * 1.2)\n",
        "\n",
        "# Use a relative offset based on the plot's scale\n",
        "offset = max(costs) * 0.01\n",
        "for bar in bars_cost:\n",
        "    width = bar.get_width()\n",
        "    #  comma as a separator\n",
        "    plt.text(width + offset, bar.get_y() + bar.get_height()/2.0, f'{width:,.2f}', va='center', ha='left')\n",
        "\n",
        "plt.gca().invert_yaxis()\n",
        "plt.tight_layout()\n",
        "plt.show()\n",
        "\n",
        "n_values = range(10, 51, 10) # Test for n = 10, 20, ..., 60 keys\n",
        "obst_times = []\n",
        "bst_times = []\n",
        "print(\"Running performance benchmark for the line graph... \")\n",
        "\n",
        "for n in n_values:\n",
        "    # Generate random probabilities for this n\n",
        "    keys = list(range(n))\n",
        "    p_rand = [random.random() for _ in range(n)]\n",
        "    q_rand = [random.random() for _ in range(n + 1)]\n",
        "    total = sum(p_rand) + sum(q_rand)\n",
        "    p = [val / total for val in p_rand]\n",
        "    q = [val / total for val in q_rand]\n",
        "\n",
        "    # Time OBST\n",
        "    t_obst = timeit.timeit(lambda: optimal_bst(p, q, keys), number=5) / 5\n",
        "    obst_times.append(t_obst)\n",
        "\n",
        "    # Time regular BST\n",
        "    t_bst = timeit.timeit(lambda: bst(p, keys), number=5) / 5\n",
        "    bst_times.append(t_bst)\n",
        "print(\"Benchmark complete.\")\n",
        "\n",
        "\n",
        "# --- Graph 2: Time Complexity Comparison (Line Chart) ---\n",
        "plt.figure(figsize=(8, 4))\n",
        "\n",
        "plt.plot(n_values, obst_times, marker='o', linestyle='-', color='blue', label='Optimal BST')\n",
        "plt.plot(n_values, bst_times, marker='s', linestyle='--', color='red', label='Regular BST')\n",
        "\n",
        "plt.xlabel('Number of Keys (n)')\n",
        "plt.ylabel('Average Execution Time (seconds)')\n",
        "plt.title('Performance Comparison: OBST vs. Regular BST')\n",
        "plt.legend()\n",
        "plt.grid(True, which='both', linestyle='--', linewidth=0.5)\n",
        "plt.tight_layout()\n",
        "plt.show()"
      ],
      "metadata": {
        "colab": {
          "base_uri": "https://localhost:8080/",
          "height": 933
        },
        "id": "u5GVabWFN81G",
        "outputId": "c02f8822-a800-41be-ac4d-c18c3ea1785d"
      },
      "execution_count": null,
      "outputs": [
        {
          "output_type": "display_data",
          "data": {
            "text/plain": [
              "<Figure size 800x500 with 1 Axes>"
            ],
            "image/png": "[encoded data removed]"
          },
          "metadata": {}
        },
        {
          "output_type": "stream",
          "name": "stdout",
          "text": [
            "Running performance benchmark for the line graph... \n",
            "Benchmark complete.\n"
          ]
        },
        {
          "output_type": "display_data",
          "data": {
            "text/plain": [
              "<Figure size 800x400 with 1 Axes>"
            ],
            "image/png": "[encoded data removed]"
          },
          "metadata": {}
        }
      ]
    },
    {
      "cell_type": "code",
      "source": [],
      "metadata": {
        "id": "tE4QaUvbT7UL"
      },
      "execution_count": null,
      "outputs": []
    }
  ]
}